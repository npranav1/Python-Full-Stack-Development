{
  "nbformat": 4,
  "nbformat_minor": 0,
  "metadata": {
    "colab": {
      "name": "List.ipynb",
      "provenance": [],
      "authorship_tag": "ABX9TyOA4dvRa1w3MkONXLNSDK/e",
      "include_colab_link": true
    },
    "kernelspec": {
      "name": "python3",
      "display_name": "Python 3"
    },
    "language_info": {
      "name": "python"
    }
  },
  "cells": [
    {
      "cell_type": "markdown",
      "metadata": {
        "id": "view-in-github",
        "colab_type": "text"
      },
      "source": [
        "<a href=\"https://colab.research.google.com/github/npranav1/Python-Full-Stack-Development/blob/main/List.ipynb\" target=\"_parent\"><img src=\"https://colab.research.google.com/assets/colab-badge.svg\" alt=\"Open In Colab\"/></a>"
      ]
    },
    {
      "cell_type": "code",
      "execution_count": 2,
      "metadata": {
        "colab": {
          "base_uri": "https://localhost:8080/"
        },
        "id": "Cr6UL_F9wVXH",
        "outputId": "6ed0f026-8cfc-405a-84e5-2c151deebfb5"
      },
      "outputs": [
        {
          "output_type": "stream",
          "name": "stdout",
          "text": [
            "[2, 0, 6, 8]\n",
            "[2, 3, 5, 7]\n",
            "[1, 3, 5, 7]\n",
            "[1, 3, 5, 9, 7, 5]\n",
            "['re', 're', 're']\n",
            "[1, 3, 9]\n",
            "[1, 3, 5, 7, 9]\n",
            "['p', 'r', 'b', 'l', 'e', 'm']\n",
            "['p', 'm']\n"
          ]
        }
      ],
      "source": [
        "odd=[2,4,6,8]\n",
        "odd[1]=0\n",
        "print(odd)\n",
        "odd[1:4]=[3,5,7]\n",
        "print(odd)\n",
        "odd=[1,3,5]\n",
        "odd.append(7)\n",
        "print(odd)\n",
        "odd.extend([9,11,13])\n",
        "odd=[1,3,5]\n",
        "print(odd+[9,7,5])\n",
        "print([\"re\"]*3)\n",
        "odd=[1,9]\n",
        "odd.insert(1,3)\n",
        "print(odd)\n",
        "odd[2:2]=[5,7]\n",
        "print(odd)\n",
        "mylist=['p','r','o','b','l','e','m']\n",
        "del mylist[2]\n",
        "print(mylist)\n",
        "del mylist[1:5]\n",
        "print(mylist)\n",
        "\n"
      ]
    }
  ]
}